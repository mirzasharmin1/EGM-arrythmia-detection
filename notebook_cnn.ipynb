{
 "cells": [
  {
   "cell_type": "code",
   "outputs": [],
   "source": [
    "DATA_BASE_PATH = \"/Users/mirzasharmin/Downloads/Star copy 2\""
   ],
   "metadata": {
    "collapsed": false,
    "ExecuteTime": {
     "end_time": "2025-08-12T01:09:13.500915Z",
     "start_time": "2025-08-12T01:09:13.496823Z"
    }
   },
   "id": "5bad54fa01d92a5",
   "execution_count": 1
  },
  {
   "cell_type": "code",
   "outputs": [],
   "source": [
    "LOW_CUTOFF_FREQUENCY = 30\n",
    "HIGH_CUTOFF_FREQUENCY = 200\n",
    "ORIGINAL_FREQUENCY = 2000\n",
    "TARGET_FREQUENCY = 400\n",
    "SEGMENT_DURATION_SECONDS = 4"
   ],
   "metadata": {
    "collapsed": false,
    "ExecuteTime": {
     "end_time": "2025-08-12T01:09:13.503287Z",
     "start_time": "2025-08-12T01:09:13.501582Z"
    }
   },
   "id": "c10162a25fa1687c",
   "execution_count": 2
  },
  {
   "cell_type": "code",
   "outputs": [],
   "source": [
    "from src.read_data import read_all_data\n",
    "\n",
    "patient_dfs, sinus_dfs = read_all_data(DATA_BASE_PATH)"
   ],
   "metadata": {
    "collapsed": false,
    "ExecuteTime": {
     "end_time": "2025-08-12T01:10:08.755743Z",
     "start_time": "2025-08-12T01:09:13.503925Z"
    }
   },
   "id": "632f2e50324ae733",
   "execution_count": 3
  },
  {
   "cell_type": "code",
   "outputs": [],
   "source": [
    "first_patient_key = list(patient_dfs.keys())[0]\n",
    "first_sinus_keys = list(sinus_dfs.keys())[0]"
   ],
   "metadata": {
    "collapsed": false,
    "ExecuteTime": {
     "end_time": "2025-08-12T01:10:08.761541Z",
     "start_time": "2025-08-12T01:10:08.759020Z"
    }
   },
   "id": "e51e56e7b56405b9",
   "execution_count": 4
  },
  {
   "cell_type": "code",
   "outputs": [
    {
     "data": {
      "text/plain": "39"
     },
     "execution_count": 5,
     "metadata": {},
     "output_type": "execute_result"
    }
   ],
   "source": [
    "len(patient_dfs)"
   ],
   "metadata": {
    "collapsed": false,
    "ExecuteTime": {
     "end_time": "2025-08-12T01:10:08.766547Z",
     "start_time": "2025-08-12T01:10:08.762343Z"
    }
   },
   "id": "44cfc4803266f0b9",
   "execution_count": 5
  },
  {
   "cell_type": "code",
   "outputs": [
    {
     "data": {
      "text/plain": "5"
     },
     "execution_count": 6,
     "metadata": {},
     "output_type": "execute_result"
    }
   ],
   "source": [
    "len(sinus_dfs)"
   ],
   "metadata": {
    "collapsed": false,
    "ExecuteTime": {
     "end_time": "2025-08-12T01:10:08.769392Z",
     "start_time": "2025-08-12T01:10:08.767187Z"
    }
   },
   "id": "84dcd1f602184183",
   "execution_count": 6
  },
  {
   "cell_type": "code",
   "outputs": [],
   "source": [
    "from src.preprocess_data import filter_all_dataframes\n",
    "\n",
    "filtered_patient_dfs = filter_all_dataframes(patient_dfs, LOW_CUTOFF_FREQUENCY, HIGH_CUTOFF_FREQUENCY)\n",
    "filtered_sinus_dfs = filter_all_dataframes(sinus_dfs, LOW_CUTOFF_FREQUENCY, HIGH_CUTOFF_FREQUENCY)"
   ],
   "metadata": {
    "collapsed": false,
    "ExecuteTime": {
     "end_time": "2025-08-12T01:10:13.457393Z",
     "start_time": "2025-08-12T01:10:08.769849Z"
    }
   },
   "id": "caf27e4a7cd5b891",
   "execution_count": 7
  },
  {
   "cell_type": "code",
   "outputs": [],
   "source": [
    "from src.preprocess_data import downsample_data\n",
    "\n",
    "downsampled_patient_dfs = downsample_data(filtered_patient_dfs, TARGET_FREQUENCY)\n",
    "downsampled_sinus_dfs = downsample_data(filtered_sinus_dfs, TARGET_FREQUENCY)"
   ],
   "metadata": {
    "collapsed": false,
    "ExecuteTime": {
     "end_time": "2025-08-12T01:10:18.987325Z",
     "start_time": "2025-08-12T01:10:13.458756Z"
    }
   },
   "id": "a2a60c5bcc23703",
   "execution_count": 8
  },
  {
   "cell_type": "code",
   "outputs": [],
   "source": [
    "from src.preprocess_data import normalize_data\n",
    "\n",
    "normalized_patient_dfs = normalize_data(downsampled_patient_dfs)\n",
    "normalized_sinus_dfs = normalize_data(downsampled_sinus_dfs)"
   ],
   "metadata": {
    "collapsed": false,
    "ExecuteTime": {
     "end_time": "2025-08-12T01:10:19.549766Z",
     "start_time": "2025-08-12T01:10:18.991591Z"
    }
   },
   "id": "c5ab1048acb1cadf",
   "execution_count": 9
  },
  {
   "cell_type": "code",
   "outputs": [
    {
     "name": "stdout",
     "output_type": "stream",
     "text": [
      "Segmenting into 4-second segments (1600 samples each)...\n",
      "  /Users/mirzasharmin/Downloads/Star copy 2/Patient 1- study date 21:01:2021/2022_07_11_21_30_06: 58 segments created\n",
      "  /Users/mirzasharmin/Downloads/Star copy 2/Patient 1- study date 21:01:2021/2022_07_11_21_31_11: 53 segments created\n",
      "  /Users/mirzasharmin/Downloads/Star copy 2/Patient 1- study date 21:01:2021/2022_07_11_21_32_46: 41 segments created\n",
      "  /Users/mirzasharmin/Downloads/Star copy 2/Patient 1- study date 21:01:2021/2022_07_11_21_33_51: 52 segments created\n",
      "  /Users/mirzasharmin/Downloads/Star copy 2/Patient 1- study date 21:01:2021/2022_07_11_21_34_38: 49 segments created\n",
      "  /Users/mirzasharmin/Downloads/Star copy 2/Patient 1- study date 21:01:2021/2022_07_11_21_35_27: 51 segments created\n",
      "  /Users/mirzasharmin/Downloads/Star copy 2/Patient 1- study date 21:01:2021/2022_07_11_21_36_35: 50 segments created\n",
      "  /Users/mirzasharmin/Downloads/Star copy 2/Patient 10- study date 24:05:2021/2022_07_13_13_31_54: 44 segments created\n",
      "  /Users/mirzasharmin/Downloads/Star copy 2/Patient 10- study date 24:05:2021/2022_07_13_13_33_31: 42 segments created\n",
      "  /Users/mirzasharmin/Downloads/Star copy 2/Patient 10- study date 24:05:2021/2022_07_13_13_34_44: 22 segments created\n",
      "  /Users/mirzasharmin/Downloads/Star copy 2/Patient 10- study date 24:05:2021/2022_07_13_13_36_45: 43 segments created\n",
      "  /Users/mirzasharmin/Downloads/Star copy 2/Patient 10- study date 24:05:2021/2022_07_13_13_37_43: 43 segments created\n",
      "  /Users/mirzasharmin/Downloads/Star copy 2/Patient 11 study date 27:05:2022 with sinus rhythm data/2022_07_13_13_55_38: 53 segments created\n",
      "  /Users/mirzasharmin/Downloads/Star copy 2/Patient 11 study date 27:05:2022 with sinus rhythm data/2022_07_13_13_59_25: 44 segments created\n",
      "  /Users/mirzasharmin/Downloads/Star copy 2/Patient 11 study date 27:05:2022 with sinus rhythm data/2022_07_13_14_00_26: 53 segments created\n",
      "  /Users/mirzasharmin/Downloads/Star copy 2/Patient 11 study date 27:05:2022 with sinus rhythm data/2022_07_13_14_01_09: 54 segments created\n",
      "  /Users/mirzasharmin/Downloads/Star copy 2/Patient 11 study date 27:05:2022 with sinus rhythm data/2022_07_13_14_01_58: 54 segments created\n",
      "  /Users/mirzasharmin/Downloads/Star copy 2/Patient 11 study date 27:05:2022 with sinus rhythm data/2022_07_13_14_02_44: 59 segments created\n",
      "  /Users/mirzasharmin/Downloads/Star copy 2/Patient 12- study date 03:08:2021 including paced recording/2022_07_17_22_46_11: 42 segments created\n",
      "  /Users/mirzasharmin/Downloads/Star copy 2/Patient 12- study date 03:08:2021 including paced recording/2022_07_17_22_47_18: 43 segments created\n",
      "  /Users/mirzasharmin/Downloads/Star copy 2/Patient 12- study date 03:08:2021 including paced recording/2022_07_17_22_47_59: 45 segments created\n",
      "  /Users/mirzasharmin/Downloads/Star copy 2/Patient 12- study date 03:08:2021 including paced recording/2022_07_17_22_48_57: 43 segments created\n",
      "  /Users/mirzasharmin/Downloads/Star copy 2/Patient 12- study date 03:08:2021 including paced recording/2022_07_17_22_49_36: 44 segments created\n",
      "  /Users/mirzasharmin/Downloads/Star copy 2/Patient 13-study date 27:09:2021 including paced rhythm/2022_07_17_12_15_26: 49 segments created\n",
      "  /Users/mirzasharmin/Downloads/Star copy 2/Patient 13-study date 27:09:2021 including paced rhythm/2022_07_17_12_16_35: 43 segments created\n",
      "  /Users/mirzasharmin/Downloads/Star copy 2/Patient 13-study date 27:09:2021 including paced rhythm/2022_07_17_12_17_26: 30 segments created\n",
      "  /Users/mirzasharmin/Downloads/Star copy 2/Patient 13-study date 27:09:2021 including paced rhythm/2022_07_17_12_18_19: 44 segments created\n",
      "  /Users/mirzasharmin/Downloads/Star copy 2/Patient 13-study date 27:09:2021 including paced rhythm/2022_07_17_12_19_37: 40 segments created\n",
      "  /Users/mirzasharmin/Downloads/Star copy 2/Patient 13-study date 27:09:2021 including paced rhythm/2022_07_17_12_20_20: 49 segments created\n",
      "  /Users/mirzasharmin/Downloads/Star copy 2/Patient 14-study date 12:10:2021- including recording in sinus/2022_07_17_11_51_11: 40 segments created\n",
      "  /Users/mirzasharmin/Downloads/Star copy 2/Patient 14-study date 12:10:2021- including recording in sinus/2022_07_17_11_52_28: 58 segments created\n",
      "  /Users/mirzasharmin/Downloads/Star copy 2/Patient 14-study date 12:10:2021- including recording in sinus/2022_07_17_11_53_29: 42 segments created\n",
      "  /Users/mirzasharmin/Downloads/Star copy 2/Patient 14-study date 12:10:2021- including recording in sinus/2022_07_17_11_54_34: 41 segments created\n",
      "  /Users/mirzasharmin/Downloads/Star copy 2/Patient 14-study date 12:10:2021- including recording in sinus/2022_07_17_11_55_50: 43 segments created\n",
      "  /Users/mirzasharmin/Downloads/Star copy 2/Patient 15-study date 25:10:2021 including recording in sinus/2022_07_17_11_25_42: 41 segments created\n",
      "  /Users/mirzasharmin/Downloads/Star copy 2/Patient 15-study date 25:10:2021 including recording in sinus/2022_07_17_11_26_52: 39 segments created\n",
      "  /Users/mirzasharmin/Downloads/Star copy 2/Patient 15-study date 25:10:2021 including recording in sinus/2022_07_17_11_28_23: 41 segments created\n",
      "  /Users/mirzasharmin/Downloads/Star copy 2/Patient 15-study date 25:10:2021 including recording in sinus/2022_07_17_11_29_35: 41 segments created\n",
      "  /Users/mirzasharmin/Downloads/Star copy 2/Patient 15-study date 25:10:2021 including recording in sinus/2022_07_17_11_30_29: 54 segments created\n",
      "Segmenting into 4-second segments (1600 samples each)...\n",
      "  /Users/mirzasharmin/Downloads/Star copy 2/Patient 10- study date 24:05:2021/2022_07_13_13_38_39: 46 segments created\n",
      "  /Users/mirzasharmin/Downloads/Star copy 2/Patient 11 study date 27:05:2022 with sinus rhythm data/2022_07_13_14_03_44: 57 segments created\n",
      "  /Users/mirzasharmin/Downloads/Star copy 2/Patient 12- study date 03:08:2021 including paced recording/2022_07_17_22_50_29: 76 segments created\n",
      "  /Users/mirzasharmin/Downloads/Star copy 2/Patient 13-study date 27:09:2021 including paced rhythm/2022_07_17_12_24_42: 75 segments created\n",
      "  /Users/mirzasharmin/Downloads/Star copy 2/Patient 15-study date 25:10:2021 including recording in sinus/2022_07_17_11_32_22: 50 segments created\n"
     ]
    }
   ],
   "source": [
    "from src.preprocess_data import segment_data\n",
    "\n",
    "patient_segmented_arrays = segment_data(normalized_patient_dfs, segment_duration_sec=SEGMENT_DURATION_SECONDS)\n",
    "sinus_segmented_arrays = segment_data(normalized_sinus_dfs, segment_duration_sec=SEGMENT_DURATION_SECONDS)"
   ],
   "metadata": {
    "collapsed": false,
    "ExecuteTime": {
     "end_time": "2025-08-12T01:10:20.384404Z",
     "start_time": "2025-08-12T01:10:19.550383Z"
    }
   },
   "id": "c8c4f8c3a9a02cc3",
   "execution_count": 10
  },
  {
   "cell_type": "code",
   "outputs": [
    {
     "data": {
      "text/plain": "1777"
     },
     "execution_count": 11,
     "metadata": {},
     "output_type": "execute_result"
    }
   ],
   "source": [
    "sum([len(segments) for key, segments in patient_segmented_arrays.items()])"
   ],
   "metadata": {
    "collapsed": false,
    "ExecuteTime": {
     "end_time": "2025-08-12T01:10:20.397356Z",
     "start_time": "2025-08-12T01:10:20.386953Z"
    }
   },
   "id": "31545544c6c09a6",
   "execution_count": 11
  },
  {
   "cell_type": "code",
   "outputs": [
    {
     "data": {
      "text/plain": "304"
     },
     "execution_count": 12,
     "metadata": {},
     "output_type": "execute_result"
    }
   ],
   "source": [
    "sum([len(segments) for key, segments in sinus_segmented_arrays.items()])"
   ],
   "metadata": {
    "collapsed": false,
    "ExecuteTime": {
     "end_time": "2025-08-12T01:10:20.402666Z",
     "start_time": "2025-08-12T01:10:20.398113Z"
    }
   },
   "id": "d178fe121beeb793",
   "execution_count": 12
  },
  {
   "cell_type": "code",
   "outputs": [
    {
     "name": "stdout",
     "output_type": "stream",
     "text": [
      "Patient files: 39\n",
      "Sinus files: 5\n",
      "\n",
      "File distribution:\n",
      "  Train: 27 patient + 3 sinus\n",
      "  Valid: 6 patient + 1 sinus\n",
      "  Test:  6 patient + 1 sinus\n",
      "\n",
      "=== Final Dataset Statistics ===\n",
      "Training segments: 1407 (197 sinus, 1210 patient)\n",
      "Validation segments: 332 (57 sinus, 275 patient)\n",
      "Test segments: 342 (50 sinus, 292 patient)\n"
     ]
    }
   ],
   "source": [
    "from src.dataset import prepare_data\n",
    "\n",
    "train_data, valid_data, test_data, train_labels, valid_labels, test_labels = prepare_data(patient_segmented_arrays, sinus_segmented_arrays)"
   ],
   "metadata": {
    "collapsed": false,
    "ExecuteTime": {
     "end_time": "2025-08-12T01:10:23.779995Z",
     "start_time": "2025-08-12T01:10:20.403533Z"
    }
   },
   "id": "de1eae400fd5929c",
   "execution_count": 13
  },
  {
   "cell_type": "code",
   "outputs": [],
   "source": [
    "import torch\n",
    "\n",
    "if torch.cuda.is_available():\n",
    "    device = torch.device('cuda')\n",
    "else:\n",
    "    device = torch.device('cpu')"
   ],
   "metadata": {
    "collapsed": false,
    "ExecuteTime": {
     "end_time": "2025-08-12T01:10:23.787972Z",
     "start_time": "2025-08-12T01:10:23.781863Z"
    }
   },
   "id": "5d525d53f6c85a54",
   "execution_count": 14
  },
  {
   "cell_type": "code",
   "outputs": [
    {
     "name": "stdout",
     "output_type": "stream",
     "text": [
      "Starting EGM Classification Pipeline\n",
      "=== SMOTE Oversampling ===\n",
      "Before SMOTE:\n",
      "  Shape: (1407, 51200)\n",
      "  Sinus: 197 segments\n",
      "  Patient: 1210 segments\n",
      "\n",
      "After SMOTE:\n",
      "  Shape: (2420, 51200)\n",
      "  Sinus: 1210 segments\n",
      "  Patient: 1210 segments\n",
      "Training data distribution:\n",
      "  Sinus: 197 segments (14.0%)\n",
      "  Patient: 1210 segments (86.0%)\n",
      "\n",
      "DataLoaders created:\n",
      "Train batches: 76\n",
      "Test batches: 11\n",
      "\n",
      "Model created with 2,290,305 parameters\n",
      "\n",
      "=== Training Setup ===\n",
      "Device: cpu\n",
      "Early stopping patience: 5 epochs\n"
     ]
    }
   ],
   "source": [
    "from src.training import run_training_pipeline\n",
    "from src.training import predict_and_evaluate\n",
    "\n",
    "model_with_smote, history_with_smote = run_training_pipeline(\n",
    "    train_data, train_labels, valid_data, valid_labels, model_type=\"cnn\", device=device, use_smote=True\n",
    ")"
   ],
   "metadata": {
    "collapsed": false,
    "is_executing": true,
    "ExecuteTime": {
     "start_time": "2025-08-12T01:10:23.792842Z"
    }
   },
   "id": "3ced94cd974ce5e1",
   "execution_count": null
  },
  {
   "cell_type": "code",
   "outputs": [],
   "source": [
    "\n",
    "model_without_smote, history_without_smote = run_training_pipeline(\n",
    "    train_data, train_labels, valid_data, valid_labels, model_type=\"cnn\", device=device , use_smote=False\n",
    ")"
   ],
   "metadata": {
    "collapsed": false,
    "is_executing": true
   },
   "id": "4df12bd38a4de2d7",
   "execution_count": null
  },
  {
   "cell_type": "code",
   "outputs": [],
   "source": [
    "\n",
    "import pickle\n",
    "\n",
    "with open('save/history_without_smote_cnn.pkl', 'wb') as file:\n",
    "    pickle.dump(history_without_smote, file)\n",
    "    \n",
    "with open('save/history_with_smote_cnn.pkl', 'wb') as file:\n",
    "    pickle.dump(history_with_smote, file)"
   ],
   "metadata": {
    "collapsed": false,
    "is_executing": true
   },
   "id": "f6061e24160ec720",
   "execution_count": null
  },
  {
   "cell_type": "code",
   "outputs": [],
   "source": [
    "import matplotlib.pyplot as plt\n",
    "\n",
    "fig, (ax1, ax2) = plt.subplots(1, 2, figsize=(12, 4))\n",
    "\n",
    "# Plot losses\n",
    "ax1.plot(history_without_smote\n",
    "         ['train_losses'], label='Train Loss', color='blue')\n",
    "ax1.plot(history_without_smote['test_losses'], label='Validation Loss', color='red')\n",
    "ax1.set_title('Loss')\n",
    "ax1.set_xlabel('Epoch')\n",
    "ax1.set_ylabel('Loss')\n",
    "ax1.legend()\n",
    "ax1.grid(True, alpha=0.3)\n",
    "\n",
    "# Plot accuracies\n",
    "ax2.plot(history_without_smote['train_accuracies'], label='Train Accuracy', color='blue')\n",
    "ax2.plot(history_without_smote['test_accuracies'], label='Validation Accuracy', color='red')\n",
    "ax2.set_title('Accuracy')\n",
    "ax2.set_xlabel('Epoch')\n",
    "ax2.set_ylabel('Accuracy (%)')\n",
    "ax2.legend()\n",
    "ax2.grid(True, alpha=0.3)\n",
    "\n",
    "plt.tight_layout()\n",
    "plt.savefig('figures/loss_curves_cnn_without_smote.png')\n",
    "plt.show()"
   ],
   "metadata": {
    "collapsed": false,
    "is_executing": true
   },
   "id": "c79985ca10e2d708",
   "execution_count": null
  },
  {
   "cell_type": "code",
   "outputs": [],
   "source": [
    "fig, (ax1, ax2) = plt.subplots(1, 2, figsize=(12, 4))\n",
    "\n",
    "# Plot losses\n",
    "ax1.plot(history_with_smote\n",
    "         ['train_losses'], label='Train Loss', color='blue')\n",
    "ax1.plot(history_with_smote['test_losses'], label='Validation Loss', color='red')\n",
    "ax1.set_title('Loss')\n",
    "ax1.set_xlabel('Epoch')\n",
    "ax1.set_ylabel('Loss')\n",
    "ax1.legend()\n",
    "ax1.grid(True, alpha=0.3)\n",
    "\n",
    "# Plot accuracies\n",
    "ax2.plot(history_with_smote['train_accuracies'], label='Train Accuracy', color='blue')\n",
    "ax2.plot(history_with_smote['test_accuracies'], label='Validation Accuracy', color='red')\n",
    "ax2.set_title('Accuracy')\n",
    "ax2.set_xlabel('Epoch')\n",
    "ax2.set_ylabel('Accuracy (%)')\n",
    "ax2.legend()\n",
    "ax2.grid(True, alpha=0.3)\n",
    "\n",
    "plt.tight_layout()\n",
    "plt.savefig('figures/loss_curves_cnn_with_smote.png')\n",
    "plt.show()"
   ],
   "metadata": {
    "collapsed": false,
    "is_executing": true
   },
   "id": "dac7f9802636afad",
   "execution_count": null
  },
  {
   "cell_type": "code",
   "outputs": [],
   "source": [
    "print(\"=== Results with SMOTE ===\")\n",
    "results_smote = predict_and_evaluate(model_with_smote, test_data, test_labels)\n",
    "\n",
    "print(\"\\n=== Results without SMOTE ===\") \n",
    "results_no_smote = predict_and_evaluate(model_without_smote, test_data, test_labels)\n",
    "\n",
    "print(f\"\\nComparison:\")\n",
    "print(f\"SMOTE F1-Score: {results_smote['f1_score']:.3f}\")\n",
    "print(f\"No SMOTE F1-Score: {results_no_smote['f1_score']:.3f}\")"
   ],
   "metadata": {
    "collapsed": false,
    "is_executing": true
   },
   "id": "dbe753f78555d4a6",
   "execution_count": null
  },
  {
   "cell_type": "code",
   "outputs": [],
   "source": [
    "import torch\n",
    "\n",
    "torch.save(model_without_smote.state_dict(), 'save/model_without_smote_cnn.pth')\n",
    "torch.save(model_with_smote.state_dict(), 'save/model_with_smote_cnn.pth')"
   ],
   "metadata": {
    "collapsed": false,
    "is_executing": true
   },
   "id": "421e69c5a059d8c6",
   "execution_count": null
  },
  {
   "cell_type": "code",
   "outputs": [],
   "source": [
    "from src.training import predict_and_evaluate\n",
    "\n",
    "test_results_without_smote = predict_and_evaluate(model_without_smote, test_data, test_labels, device)"
   ],
   "metadata": {
    "collapsed": false,
    "is_executing": true
   },
   "id": "d5accb27c9b0362",
   "execution_count": null
  },
  {
   "cell_type": "code",
   "outputs": [],
   "source": [
    "import matplotlib.pyplot as plt\n",
    "import numpy as np\n",
    "\n",
    "# Extract metrics from results dictionary\n",
    "metrics = ['Accuracy', 'Precision', 'Recall', 'F1-Score']\n",
    "values = [test_results_without_smote['accuracy'], test_results_without_smote['precision'], test_results_without_smote['recall'], test_results_without_smote['f1_score']]\n",
    "\n",
    "# Create bar chart\n",
    "plt.figure(figsize=(10, 6))\n",
    "bars = plt.bar(metrics, values, color=['#2E86AB', '#A23B72', '#F18F01'], alpha=0.8, edgecolor='black', linewidth=1.2)\n",
    "\n",
    "# Customize the plot\n",
    "plt.title('Model Performance: CNN - without SMOTE', fontsize=16, fontweight='bold', pad=20)\n",
    "plt.ylabel('Score', fontsize=12)\n",
    "plt.ylim(0, 1.0)  # Set y-axis from 0 to 1\n",
    "\n",
    "# Add value labels on top of bars\n",
    "for bar, value in zip(bars, values):\n",
    "    plt.text(bar.get_x() + bar.get_width()/2, bar.get_height() + 0.01, \n",
    "             f'{value:.3f}', ha='center', va='bottom', fontsize=12, fontweight='bold')\n",
    "\n",
    "# Add horizontal grid lines\n",
    "plt.grid(axis='y', alpha=0.3, linestyle='--')\n",
    "\n",
    "# Customize appearance\n",
    "plt.tight_layout()\n",
    "plt.savefig('figures/metrics_cnn_without_smote.png')\n",
    "plt.show()"
   ],
   "metadata": {
    "collapsed": false,
    "is_executing": true
   },
   "id": "1d897edcf98f7ce5",
   "execution_count": null
  },
  {
   "cell_type": "code",
   "outputs": [],
   "source": [
    "test_results_with_smote = predict_and_evaluate(model_with_smote, test_data, test_labels, device)"
   ],
   "metadata": {
    "collapsed": false,
    "is_executing": true
   },
   "id": "54f5014021339fcf",
   "execution_count": null
  },
  {
   "cell_type": "code",
   "outputs": [],
   "source": [
    "import matplotlib.pyplot as plt\n",
    "import numpy as np\n",
    "\n",
    "# Extract metrics from results dictionary\n",
    "metrics = ['Accuracy', 'Precision', 'Recall', 'F1-Score']\n",
    "values = [test_results_with_smote['accuracy'], test_results_with_smote['precision'], test_results_with_smote['recall'], test_results_with_smote['f1_score']]\n",
    "\n",
    "# Create bar chart\n",
    "plt.figure(figsize=(10, 6))\n",
    "bars = plt.bar(metrics, values, color=['#2E86AB', '#A23B72', '#F18F01'], alpha=0.8, edgecolor='black', linewidth=1.2)\n",
    "\n",
    "# Customize the plot\n",
    "plt.title('Model Performance Metrics: CNN - With SMOTE', fontsize=16, fontweight='bold', pad=20)\n",
    "plt.ylabel('Score', fontsize=12)\n",
    "plt.ylim(0, 1.0)  # Set y-axis from 0 to 1\n",
    "\n",
    "# Add value labels on top of bars\n",
    "for bar, value in zip(bars, values):\n",
    "    plt.text(bar.get_x() + bar.get_width()/2, bar.get_height() + 0.01, \n",
    "             f'{value:.3f}', ha='center', va='bottom', fontsize=12, fontweight='bold')\n",
    "\n",
    "# Add horizontal grid lines\n",
    "plt.grid(axis='y', alpha=0.3, linestyle='--')\n",
    "\n",
    "# Customize appearance\n",
    "plt.tight_layout()\n",
    "plt.savefig('figures/metrics_cnn_with_smote.png')\n",
    "plt.show()"
   ],
   "metadata": {
    "collapsed": false,
    "is_executing": true
   },
   "id": "618e3b801c70e605",
   "execution_count": null
  },
  {
   "cell_type": "code",
   "outputs": [],
   "source": [],
   "metadata": {
    "collapsed": false,
    "is_executing": true
   },
   "id": "db65e0b7a73afab3",
   "execution_count": null
  }
 ],
 "metadata": {
  "kernelspec": {
   "display_name": "Python 3",
   "language": "python",
   "name": "python3"
  },
  "language_info": {
   "codemirror_mode": {
    "name": "ipython",
    "version": 2
   },
   "file_extension": ".py",
   "mimetype": "text/x-python",
   "name": "python",
   "nbconvert_exporter": "python",
   "pygments_lexer": "ipython2",
   "version": "2.7.6"
  }
 },
 "nbformat": 4,
 "nbformat_minor": 5
}
