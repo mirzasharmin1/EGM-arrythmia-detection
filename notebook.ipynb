{
 "cells": [
  {
   "cell_type": "code",
   "outputs": [],
   "source": [
    "DATA_BASE_PATH = \"/Users/mirzasharmin/Downloads/Star copy 2\""
   ],
   "metadata": {
    "collapsed": false,
    "ExecuteTime": {
     "end_time": "2025-07-21T20:37:31.934052Z",
     "start_time": "2025-07-21T20:37:31.929226Z"
    }
   },
   "id": "5bad54fa01d92a5",
   "execution_count": 1
  },
  {
   "cell_type": "code",
   "outputs": [],
   "source": [
    "CUTOFF_FREQUENCY = 100\n",
    "ORIGINAL_FREQUENCY = 2000\n",
    "TARGET_FREQUENCY = 400\n",
    "SEGMENT_DURATION_SECONDS = 4"
   ],
   "metadata": {
    "collapsed": false,
    "ExecuteTime": {
     "end_time": "2025-07-21T20:37:31.942762Z",
     "start_time": "2025-07-21T20:37:31.941045Z"
    }
   },
   "id": "c10162a25fa1687c",
   "execution_count": 2
  },
  {
   "cell_type": "code",
   "outputs": [],
   "source": [
    "from src.read_data import read_all_data\n",
    "\n",
    "patient_dfs, sinus_dfs = read_all_data(DATA_BASE_PATH)"
   ],
   "metadata": {
    "collapsed": false,
    "ExecuteTime": {
     "end_time": "2025-07-21T20:38:19.709346Z",
     "start_time": "2025-07-21T20:37:31.956162Z"
    }
   },
   "id": "632f2e50324ae733",
   "execution_count": 3
  },
  {
   "cell_type": "code",
   "outputs": [],
   "source": [
    "first_patient_key = list(patient_dfs.keys())[0]\n",
    "first_sinus_keys = list(sinus_dfs.keys())[0]"
   ],
   "metadata": {
    "collapsed": false,
    "ExecuteTime": {
     "end_time": "2025-07-21T20:38:19.712148Z",
     "start_time": "2025-07-21T20:38:19.710310Z"
    }
   },
   "id": "e51e56e7b56405b9",
   "execution_count": 4
  },
  {
   "cell_type": "code",
   "outputs": [],
   "source": [
    "from src.preprocess_data import filter_all_dataframes\n",
    "\n",
    "filtered_patient_dfs = filter_all_dataframes(patient_dfs, CUTOFF_FREQUENCY)\n",
    "filtered_sinus_dfs = filter_all_dataframes(sinus_dfs, CUTOFF_FREQUENCY)"
   ],
   "metadata": {
    "collapsed": false,
    "ExecuteTime": {
     "end_time": "2025-07-21T20:38:22.548130Z",
     "start_time": "2025-07-21T20:38:19.712781Z"
    }
   },
   "id": "caf27e4a7cd5b891",
   "execution_count": 5
  },
  {
   "cell_type": "code",
   "outputs": [],
   "source": [
    "from src.preprocess_data import downsample_data\n",
    "\n",
    "downsampled_patient_dfs = downsample_data(filtered_patient_dfs, TARGET_FREQUENCY)\n",
    "downsampled_sinus_dfs = downsample_data(filtered_sinus_dfs, TARGET_FREQUENCY)"
   ],
   "metadata": {
    "collapsed": false,
    "ExecuteTime": {
     "end_time": "2025-07-21T20:38:25.314768Z",
     "start_time": "2025-07-21T20:38:22.549497Z"
    }
   },
   "id": "a2a60c5bcc23703",
   "execution_count": 6
  },
  {
   "cell_type": "code",
   "outputs": [],
   "source": [
    "from src.preprocess_data import normalize_data\n",
    "\n",
    "normalized_patient_dfs = normalize_data(downsampled_patient_dfs)\n",
    "normalized_sinus_dfs = normalize_data(downsampled_sinus_dfs)"
   ],
   "metadata": {
    "collapsed": false,
    "ExecuteTime": {
     "end_time": "2025-07-21T20:38:25.881332Z",
     "start_time": "2025-07-21T20:38:25.315402Z"
    }
   },
   "id": "c5ab1048acb1cadf",
   "execution_count": 7
  },
  {
   "cell_type": "code",
   "outputs": [
    {
     "name": "stdout",
     "output_type": "stream",
     "text": [
      "Segmenting into 4-second segments (1600 samples each)...\n",
      "  /Users/mirzasharmin/Downloads/Star copy 2/Patient 1- study date 21:01:2021/2022_07_11_21_30_06: 58 segments created\n",
      "  /Users/mirzasharmin/Downloads/Star copy 2/Patient 1- study date 21:01:2021/2022_07_11_21_31_11: 53 segments created\n",
      "  /Users/mirzasharmin/Downloads/Star copy 2/Patient 1- study date 21:01:2021/2022_07_11_21_32_46: 41 segments created\n",
      "  /Users/mirzasharmin/Downloads/Star copy 2/Patient 1- study date 21:01:2021/2022_07_11_21_33_51: 52 segments created\n",
      "  /Users/mirzasharmin/Downloads/Star copy 2/Patient 1- study date 21:01:2021/2022_07_11_21_34_38: 49 segments created\n",
      "  /Users/mirzasharmin/Downloads/Star copy 2/Patient 1- study date 21:01:2021/2022_07_11_21_35_27: 51 segments created\n",
      "  /Users/mirzasharmin/Downloads/Star copy 2/Patient 1- study date 21:01:2021/2022_07_11_21_36_35: 50 segments created\n",
      "  /Users/mirzasharmin/Downloads/Star copy 2/Patient 10- study date 24:05:2021/2022_07_13_13_31_54: 44 segments created\n",
      "  /Users/mirzasharmin/Downloads/Star copy 2/Patient 10- study date 24:05:2021/2022_07_13_13_33_31: 42 segments created\n",
      "  /Users/mirzasharmin/Downloads/Star copy 2/Patient 10- study date 24:05:2021/2022_07_13_13_34_44: 22 segments created\n",
      "  /Users/mirzasharmin/Downloads/Star copy 2/Patient 10- study date 24:05:2021/2022_07_13_13_36_45: 43 segments created\n",
      "  /Users/mirzasharmin/Downloads/Star copy 2/Patient 10- study date 24:05:2021/2022_07_13_13_37_43: 43 segments created\n",
      "  /Users/mirzasharmin/Downloads/Star copy 2/Patient 11 study date 27:05:2022 with sinus rhythm data/2022_07_13_13_55_38: 53 segments created\n",
      "  /Users/mirzasharmin/Downloads/Star copy 2/Patient 11 study date 27:05:2022 with sinus rhythm data/2022_07_13_13_59_25: 44 segments created\n",
      "  /Users/mirzasharmin/Downloads/Star copy 2/Patient 11 study date 27:05:2022 with sinus rhythm data/2022_07_13_14_00_26: 53 segments created\n",
      "  /Users/mirzasharmin/Downloads/Star copy 2/Patient 11 study date 27:05:2022 with sinus rhythm data/2022_07_13_14_01_09: 54 segments created\n",
      "  /Users/mirzasharmin/Downloads/Star copy 2/Patient 11 study date 27:05:2022 with sinus rhythm data/2022_07_13_14_01_58: 54 segments created\n",
      "  /Users/mirzasharmin/Downloads/Star copy 2/Patient 11 study date 27:05:2022 with sinus rhythm data/2022_07_13_14_02_44: 59 segments created\n",
      "  /Users/mirzasharmin/Downloads/Star copy 2/Patient 12- study date 03:08:2021 including paced recording/2022_07_17_22_46_11: 42 segments created\n",
      "  /Users/mirzasharmin/Downloads/Star copy 2/Patient 12- study date 03:08:2021 including paced recording/2022_07_17_22_47_18: 43 segments created\n",
      "  /Users/mirzasharmin/Downloads/Star copy 2/Patient 12- study date 03:08:2021 including paced recording/2022_07_17_22_47_59: 45 segments created\n",
      "  /Users/mirzasharmin/Downloads/Star copy 2/Patient 12- study date 03:08:2021 including paced recording/2022_07_17_22_48_57: 43 segments created\n",
      "  /Users/mirzasharmin/Downloads/Star copy 2/Patient 12- study date 03:08:2021 including paced recording/2022_07_17_22_49_36: 44 segments created\n",
      "  /Users/mirzasharmin/Downloads/Star copy 2/Patient 13-study date 27:09:2021 including paced rhythm/2022_07_17_12_15_26: 49 segments created\n",
      "  /Users/mirzasharmin/Downloads/Star copy 2/Patient 13-study date 27:09:2021 including paced rhythm/2022_07_17_12_16_35: 43 segments created\n",
      "  /Users/mirzasharmin/Downloads/Star copy 2/Patient 13-study date 27:09:2021 including paced rhythm/2022_07_17_12_17_26: 30 segments created\n",
      "  /Users/mirzasharmin/Downloads/Star copy 2/Patient 13-study date 27:09:2021 including paced rhythm/2022_07_17_12_18_19: 44 segments created\n",
      "  /Users/mirzasharmin/Downloads/Star copy 2/Patient 13-study date 27:09:2021 including paced rhythm/2022_07_17_12_19_37: 40 segments created\n",
      "  /Users/mirzasharmin/Downloads/Star copy 2/Patient 13-study date 27:09:2021 including paced rhythm/2022_07_17_12_20_20: 49 segments created\n",
      "  /Users/mirzasharmin/Downloads/Star copy 2/Patient 14-study date 12:10:2021- including recording in sinus/2022_07_17_11_51_11: 40 segments created\n",
      "  /Users/mirzasharmin/Downloads/Star copy 2/Patient 14-study date 12:10:2021- including recording in sinus/2022_07_17_11_52_28: 58 segments created\n",
      "  /Users/mirzasharmin/Downloads/Star copy 2/Patient 14-study date 12:10:2021- including recording in sinus/2022_07_17_11_53_29: 42 segments created\n",
      "  /Users/mirzasharmin/Downloads/Star copy 2/Patient 14-study date 12:10:2021- including recording in sinus/2022_07_17_11_54_34: 41 segments created\n",
      "  /Users/mirzasharmin/Downloads/Star copy 2/Patient 14-study date 12:10:2021- including recording in sinus/2022_07_17_11_55_50: 43 segments created\n",
      "  /Users/mirzasharmin/Downloads/Star copy 2/Patient 15-study date 25:10:2021 including recording in sinus/2022_07_17_11_25_42: 41 segments created\n",
      "  /Users/mirzasharmin/Downloads/Star copy 2/Patient 15-study date 25:10:2021 including recording in sinus/2022_07_17_11_26_52: 39 segments created\n",
      "  /Users/mirzasharmin/Downloads/Star copy 2/Patient 15-study date 25:10:2021 including recording in sinus/2022_07_17_11_28_23: 41 segments created\n",
      "  /Users/mirzasharmin/Downloads/Star copy 2/Patient 15-study date 25:10:2021 including recording in sinus/2022_07_17_11_29_35: 41 segments created\n",
      "  /Users/mirzasharmin/Downloads/Star copy 2/Patient 15-study date 25:10:2021 including recording in sinus/2022_07_17_11_30_29: 54 segments created\n",
      "Segmenting into 4-second segments (1600 samples each)...\n",
      "  /Users/mirzasharmin/Downloads/Star copy 2/Patient 10- study date 24:05:2021/2022_07_13_13_38_39: 46 segments created\n",
      "  /Users/mirzasharmin/Downloads/Star copy 2/Patient 11 study date 27:05:2022 with sinus rhythm data/2022_07_13_14_03_44: 57 segments created\n",
      "  /Users/mirzasharmin/Downloads/Star copy 2/Patient 12- study date 03:08:2021 including paced recording/2022_07_17_22_50_29: 76 segments created\n",
      "  /Users/mirzasharmin/Downloads/Star copy 2/Patient 13-study date 27:09:2021 including paced rhythm/2022_07_17_12_24_42: 75 segments created\n",
      "  /Users/mirzasharmin/Downloads/Star copy 2/Patient 15-study date 25:10:2021 including recording in sinus/2022_07_17_11_32_22: 50 segments created\n"
     ]
    }
   ],
   "source": [
    "from src.preprocess_data import segment_data\n",
    "\n",
    "patient_segmented_arrays = segment_data(normalized_patient_dfs, segment_duration_sec=SEGMENT_DURATION_SECONDS)\n",
    "sinus_segmented_arrays = segment_data(normalized_sinus_dfs, segment_duration_sec=SEGMENT_DURATION_SECONDS)"
   ],
   "metadata": {
    "collapsed": false,
    "ExecuteTime": {
     "end_time": "2025-07-21T20:38:26.094708Z",
     "start_time": "2025-07-21T20:38:25.882215Z"
    }
   },
   "id": "c8c4f8c3a9a02cc3",
   "execution_count": 8
  },
  {
   "cell_type": "code",
   "outputs": [
    {
     "data": {
      "text/plain": "1777"
     },
     "execution_count": 9,
     "metadata": {},
     "output_type": "execute_result"
    }
   ],
   "source": [
    "sum([len(segments) for key, segments in patient_segmented_arrays.items()])"
   ],
   "metadata": {
    "collapsed": false,
    "ExecuteTime": {
     "end_time": "2025-07-21T20:38:26.098604Z",
     "start_time": "2025-07-21T20:38:26.095309Z"
    }
   },
   "id": "31545544c6c09a6",
   "execution_count": 9
  },
  {
   "cell_type": "code",
   "outputs": [
    {
     "data": {
      "text/plain": "304"
     },
     "execution_count": 10,
     "metadata": {},
     "output_type": "execute_result"
    }
   ],
   "source": [
    "sum([len(segments) for key, segments in sinus_segmented_arrays.items()])"
   ],
   "metadata": {
    "collapsed": false,
    "ExecuteTime": {
     "end_time": "2025-07-21T20:38:26.101690Z",
     "start_time": "2025-07-21T20:38:26.099077Z"
    }
   },
   "id": "d178fe121beeb793",
   "execution_count": 10
  },
  {
   "cell_type": "code",
   "outputs": [
    {
     "name": "stdout",
     "output_type": "stream",
     "text": [
      "Patient files: 39\n",
      "Sinus files: 5\n",
      "\n",
      "File distribution:\n",
      "  Train: 27 patient + 3 sinus\n",
      "  Valid: 6 patient + 1 sinus\n",
      "  Test:  6 patient + 1 sinus\n",
      "\n",
      "=== Final Dataset Statistics ===\n",
      "Training segments: 1407 (197 sinus, 1210 patient)\n",
      "Validation segments: 332 (57 sinus, 275 patient)\n",
      "Test segments: 342 (50 sinus, 292 patient)\n"
     ]
    }
   ],
   "source": [
    "from src.dataset import prepare_data\n",
    "\n",
    "train_data, valid_data, test_data, train_labels, valid_labels, test_labels = prepare_data(patient_segmented_arrays, sinus_segmented_arrays)"
   ],
   "metadata": {
    "collapsed": false,
    "ExecuteTime": {
     "end_time": "2025-07-21T20:38:27.302155Z",
     "start_time": "2025-07-21T20:38:26.102197Z"
    }
   },
   "id": "de1eae400fd5929c",
   "execution_count": 11
  },
  {
   "cell_type": "code",
   "outputs": [],
   "source": [
    "import torch\n",
    "\n",
    "if torch.cuda.is_available():\n",
    "    device = torch.device('cuda')\n",
    "else:\n",
    "    device = torch.device('cpu')"
   ],
   "metadata": {
    "collapsed": false,
    "ExecuteTime": {
     "end_time": "2025-07-21T20:38:27.305361Z",
     "start_time": "2025-07-21T20:38:27.303705Z"
    }
   },
   "id": "5d525d53f6c85a54",
   "execution_count": 12
  },
  {
   "cell_type": "code",
   "outputs": [
    {
     "name": "stdout",
     "output_type": "stream",
     "text": [
      "Starting EGM Classification Pipeline\n",
      "=== SMOTE Oversampling ===\n",
      "Before SMOTE:\n",
      "  Shape: (1407, 51200)\n",
      "  Sinus: 197 segments\n",
      "  Patient: 1210 segments\n",
      "\n",
      "After SMOTE:\n",
      "  Shape: (2420, 51200)\n",
      "  Sinus: 1210 segments\n",
      "  Patient: 1210 segments\n",
      "\n",
      "DataLoaders created:\n",
      "Train batches: 76\n",
      "Test batches: 11\n",
      "\n",
      "Model created with 829,313 parameters\n",
      "\n",
      "=== Training Setup ===\n",
      "Device: cpu\n",
      "Early stopping patience: 5 epochs\n"
     ]
    },
    {
     "ename": "KeyboardInterrupt",
     "evalue": "",
     "output_type": "error",
     "traceback": [
      "\u001B[31m---------------------------------------------------------------------------\u001B[39m",
      "\u001B[31mKeyboardInterrupt\u001B[39m                         Traceback (most recent call last)",
      "\u001B[36mCell\u001B[39m\u001B[36m \u001B[39m\u001B[32mIn[13]\u001B[39m\u001B[32m, line 3\u001B[39m\n\u001B[32m      1\u001B[39m \u001B[38;5;28;01mfrom\u001B[39;00m\u001B[38;5;250m \u001B[39m\u001B[34;01msrc\u001B[39;00m\u001B[34;01m.\u001B[39;00m\u001B[34;01mtraining\u001B[39;00m\u001B[38;5;250m \u001B[39m\u001B[38;5;28;01mimport\u001B[39;00m run_training_pipeline\n\u001B[32m----> \u001B[39m\u001B[32m3\u001B[39m model, history = \u001B[43mrun_training_pipeline\u001B[49m\u001B[43m(\u001B[49m\u001B[43mtrain_data\u001B[49m\u001B[43m,\u001B[49m\u001B[43m \u001B[49m\u001B[43mtrain_labels\u001B[49m\u001B[43m,\u001B[49m\u001B[43m \u001B[49m\u001B[43mvalid_data\u001B[49m\u001B[43m,\u001B[49m\u001B[43m \u001B[49m\u001B[43mvalid_labels\u001B[49m\u001B[43m,\u001B[49m\u001B[43m \u001B[49m\u001B[43mdevice\u001B[49m\u001B[43m)\u001B[49m\n",
      "\u001B[36mFile \u001B[39m\u001B[32m~/PycharmProjects/egm_msc_project/src/training.py:235\u001B[39m, in \u001B[36mrun_training_pipeline\u001B[39m\u001B[34m(train_data, train_labels, valid_data, valid_labels, device, patience)\u001B[39m\n\u001B[32m    224\u001B[39m model = EGMTransformer(\n\u001B[32m    225\u001B[39m     input_dim=\u001B[32m32\u001B[39m,\n\u001B[32m    226\u001B[39m     d_model=\u001B[32m128\u001B[39m,\n\u001B[32m   (...)\u001B[39m\u001B[32m    230\u001B[39m     dropout=\u001B[32m0.2\u001B[39m\n\u001B[32m    231\u001B[39m )\n\u001B[32m    233\u001B[39m \u001B[38;5;28mprint\u001B[39m(\u001B[33mf\u001B[39m\u001B[33m\"\u001B[39m\u001B[38;5;130;01m\\n\u001B[39;00m\u001B[33mModel created with \u001B[39m\u001B[38;5;132;01m{\u001B[39;00m\u001B[38;5;28msum\u001B[39m(p.numel()\u001B[38;5;250m \u001B[39m\u001B[38;5;28;01mfor\u001B[39;00m\u001B[38;5;250m \u001B[39mp\u001B[38;5;250m \u001B[39m\u001B[38;5;129;01min\u001B[39;00m\u001B[38;5;250m \u001B[39mmodel.parameters())\u001B[38;5;132;01m:\u001B[39;00m\u001B[33m,\u001B[39m\u001B[38;5;132;01m}\u001B[39;00m\u001B[33m parameters\u001B[39m\u001B[33m\"\u001B[39m)\n\u001B[32m--> \u001B[39m\u001B[32m235\u001B[39m history = \u001B[43mtrain_model\u001B[49m\u001B[43m(\u001B[49m\u001B[43mmodel\u001B[49m\u001B[43m,\u001B[49m\u001B[43m \u001B[49m\u001B[43mtrain_loader\u001B[49m\u001B[43m,\u001B[49m\u001B[43m \u001B[49m\u001B[43mvalid_loader\u001B[49m\u001B[43m,\u001B[49m\u001B[43m \u001B[49m\u001B[43mnum_epochs\u001B[49m\u001B[43m=\u001B[49m\u001B[32;43m20\u001B[39;49m\u001B[43m,\u001B[49m\u001B[43m \u001B[49m\u001B[43mdevice\u001B[49m\u001B[43m=\u001B[49m\u001B[43mdevice\u001B[49m\u001B[43m,\u001B[49m\u001B[43m \u001B[49m\u001B[43mpatience\u001B[49m\u001B[43m=\u001B[49m\u001B[43mpatience\u001B[49m\u001B[43m)\u001B[49m\n\u001B[32m    237\u001B[39m \u001B[38;5;28;01mreturn\u001B[39;00m model, history\n",
      "\u001B[36mFile \u001B[39m\u001B[32m~/PycharmProjects/egm_msc_project/src/training.py:71\u001B[39m, in \u001B[36mtrain_model\u001B[39m\u001B[34m(model, train_loader, test_loader, num_epochs, device, patience)\u001B[39m\n\u001B[32m     69\u001B[39m outputs = model(segments)\n\u001B[32m     70\u001B[39m loss = criterion(outputs, labels)\n\u001B[32m---> \u001B[39m\u001B[32m71\u001B[39m \u001B[43mloss\u001B[49m\u001B[43m.\u001B[49m\u001B[43mbackward\u001B[49m\u001B[43m(\u001B[49m\u001B[43m)\u001B[49m\n\u001B[32m     72\u001B[39m optimizer.step()\n\u001B[32m     74\u001B[39m train_loss += loss.item()\n",
      "\u001B[36mFile \u001B[39m\u001B[32m~/PycharmProjects/egm_msc_project/.venv/lib/python3.11/site-packages/torch/_tensor.py:648\u001B[39m, in \u001B[36mTensor.backward\u001B[39m\u001B[34m(self, gradient, retain_graph, create_graph, inputs)\u001B[39m\n\u001B[32m    638\u001B[39m \u001B[38;5;28;01mif\u001B[39;00m has_torch_function_unary(\u001B[38;5;28mself\u001B[39m):\n\u001B[32m    639\u001B[39m     \u001B[38;5;28;01mreturn\u001B[39;00m handle_torch_function(\n\u001B[32m    640\u001B[39m         Tensor.backward,\n\u001B[32m    641\u001B[39m         (\u001B[38;5;28mself\u001B[39m,),\n\u001B[32m   (...)\u001B[39m\u001B[32m    646\u001B[39m         inputs=inputs,\n\u001B[32m    647\u001B[39m     )\n\u001B[32m--> \u001B[39m\u001B[32m648\u001B[39m \u001B[43mtorch\u001B[49m\u001B[43m.\u001B[49m\u001B[43mautograd\u001B[49m\u001B[43m.\u001B[49m\u001B[43mbackward\u001B[49m\u001B[43m(\u001B[49m\n\u001B[32m    649\u001B[39m \u001B[43m    \u001B[49m\u001B[38;5;28;43mself\u001B[39;49m\u001B[43m,\u001B[49m\u001B[43m \u001B[49m\u001B[43mgradient\u001B[49m\u001B[43m,\u001B[49m\u001B[43m \u001B[49m\u001B[43mretain_graph\u001B[49m\u001B[43m,\u001B[49m\u001B[43m \u001B[49m\u001B[43mcreate_graph\u001B[49m\u001B[43m,\u001B[49m\u001B[43m \u001B[49m\u001B[43minputs\u001B[49m\u001B[43m=\u001B[49m\u001B[43minputs\u001B[49m\n\u001B[32m    650\u001B[39m \u001B[43m\u001B[49m\u001B[43m)\u001B[49m\n",
      "\u001B[36mFile \u001B[39m\u001B[32m~/PycharmProjects/egm_msc_project/.venv/lib/python3.11/site-packages/torch/autograd/__init__.py:353\u001B[39m, in \u001B[36mbackward\u001B[39m\u001B[34m(tensors, grad_tensors, retain_graph, create_graph, grad_variables, inputs)\u001B[39m\n\u001B[32m    348\u001B[39m     retain_graph = create_graph\n\u001B[32m    350\u001B[39m \u001B[38;5;66;03m# The reason we repeat the same comment below is that\u001B[39;00m\n\u001B[32m    351\u001B[39m \u001B[38;5;66;03m# some Python versions print out the first line of a multi-line function\u001B[39;00m\n\u001B[32m    352\u001B[39m \u001B[38;5;66;03m# calls in the traceback and some print out the last line\u001B[39;00m\n\u001B[32m--> \u001B[39m\u001B[32m353\u001B[39m \u001B[43m_engine_run_backward\u001B[49m\u001B[43m(\u001B[49m\n\u001B[32m    354\u001B[39m \u001B[43m    \u001B[49m\u001B[43mtensors\u001B[49m\u001B[43m,\u001B[49m\n\u001B[32m    355\u001B[39m \u001B[43m    \u001B[49m\u001B[43mgrad_tensors_\u001B[49m\u001B[43m,\u001B[49m\n\u001B[32m    356\u001B[39m \u001B[43m    \u001B[49m\u001B[43mretain_graph\u001B[49m\u001B[43m,\u001B[49m\n\u001B[32m    357\u001B[39m \u001B[43m    \u001B[49m\u001B[43mcreate_graph\u001B[49m\u001B[43m,\u001B[49m\n\u001B[32m    358\u001B[39m \u001B[43m    \u001B[49m\u001B[43minputs\u001B[49m\u001B[43m,\u001B[49m\n\u001B[32m    359\u001B[39m \u001B[43m    \u001B[49m\u001B[43mallow_unreachable\u001B[49m\u001B[43m=\u001B[49m\u001B[38;5;28;43;01mTrue\u001B[39;49;00m\u001B[43m,\u001B[49m\n\u001B[32m    360\u001B[39m \u001B[43m    \u001B[49m\u001B[43maccumulate_grad\u001B[49m\u001B[43m=\u001B[49m\u001B[38;5;28;43;01mTrue\u001B[39;49;00m\u001B[43m,\u001B[49m\n\u001B[32m    361\u001B[39m \u001B[43m\u001B[49m\u001B[43m)\u001B[49m\n",
      "\u001B[36mFile \u001B[39m\u001B[32m~/PycharmProjects/egm_msc_project/.venv/lib/python3.11/site-packages/torch/autograd/graph.py:824\u001B[39m, in \u001B[36m_engine_run_backward\u001B[39m\u001B[34m(t_outputs, *args, **kwargs)\u001B[39m\n\u001B[32m    822\u001B[39m     unregister_hooks = _register_logging_hooks_on_whole_graph(t_outputs)\n\u001B[32m    823\u001B[39m \u001B[38;5;28;01mtry\u001B[39;00m:\n\u001B[32m--> \u001B[39m\u001B[32m824\u001B[39m     \u001B[38;5;28;01mreturn\u001B[39;00m \u001B[43mVariable\u001B[49m\u001B[43m.\u001B[49m\u001B[43m_execution_engine\u001B[49m\u001B[43m.\u001B[49m\u001B[43mrun_backward\u001B[49m\u001B[43m(\u001B[49m\u001B[43m  \u001B[49m\u001B[38;5;66;43;03m# Calls into the C++ engine to run the backward pass\u001B[39;49;00m\n\u001B[32m    825\u001B[39m \u001B[43m        \u001B[49m\u001B[43mt_outputs\u001B[49m\u001B[43m,\u001B[49m\u001B[43m \u001B[49m\u001B[43m*\u001B[49m\u001B[43margs\u001B[49m\u001B[43m,\u001B[49m\u001B[43m \u001B[49m\u001B[43m*\u001B[49m\u001B[43m*\u001B[49m\u001B[43mkwargs\u001B[49m\n\u001B[32m    826\u001B[39m \u001B[43m    \u001B[49m\u001B[43m)\u001B[49m  \u001B[38;5;66;03m# Calls into the C++ engine to run the backward pass\u001B[39;00m\n\u001B[32m    827\u001B[39m \u001B[38;5;28;01mfinally\u001B[39;00m:\n\u001B[32m    828\u001B[39m     \u001B[38;5;28;01mif\u001B[39;00m attach_logging_hooks:\n",
      "\u001B[31mKeyboardInterrupt\u001B[39m: "
     ]
    }
   ],
   "source": [
    "from src.training import run_training_pipeline\n",
    "\n",
    "model, history = run_training_pipeline(train_data, train_labels, valid_data, valid_labels, device)"
   ],
   "metadata": {
    "collapsed": false,
    "ExecuteTime": {
     "end_time": "2025-07-21T20:43:29.359416Z",
     "start_time": "2025-07-21T20:38:27.305933Z"
    }
   },
   "id": "3ced94cd974ce5e1",
   "execution_count": 13
  },
  {
   "cell_type": "code",
   "outputs": [],
   "source": [
    "import matplotlib.pyplot as plt\n",
    "\n",
    "fig, (ax1, ax2) = plt.subplots(1, 2, figsize=(14, 5))\n",
    "\n",
    "epochs = range(1, len(history['train_losses']) + 1)\n",
    "\n",
    "# Loss plot\n",
    "\n",
    "ax1.plot(epochs, history['train_losses'], 'b-', label='Training Loss')\n",
    "ax1.plot(epochs, history['test_losses'], 'r-', label='Validation Loss')\n",
    "ax1.set_title('Loss Curves')\n",
    "ax1.set_xlabel('Epoch')\n",
    "ax1.set_ylabel('Loss')\n",
    "ax1.legend()\n",
    "ax1.grid(True)\n",
    "\n",
    "# Accuracy plot\n",
    "\n",
    "ax2.plot(epochs, history['train_accuracies'], 'b-', label='Training Accuracy')\n",
    "ax2.plot(epochs, history['test_accuracies'], 'r-', label='Validation Accuracy')\n",
    "ax2.set_title('Accuracy Curves')\n",
    "ax2.set_xlabel('Epoch')\n",
    "ax2.set_ylabel('Accuracy (%)')\n",
    "ax2.legend()\n",
    "ax2.grid(True)\n",
    "\n",
    "plt.tight_layout()\n",
    "plt.savefig('figures/loss_curves.png')\n",
    "plt.show()"
   ],
   "metadata": {
    "collapsed": false,
    "ExecuteTime": {
     "end_time": "2025-07-21T20:43:29.362009Z",
     "start_time": "2025-07-21T20:43:29.361807Z"
    }
   },
   "id": "bd36f53b86fcfe12",
   "execution_count": null
  },
  {
   "cell_type": "code",
   "outputs": [],
   "source": [
    "import torch\n",
    "\n",
    "torch.save(model.state_dict(), 'save/model.pth')"
   ],
   "metadata": {
    "collapsed": false,
    "ExecuteTime": {
     "end_time": "2025-07-21T20:43:29.364053Z",
     "start_time": "2025-07-21T20:43:29.364007Z"
    }
   },
   "id": "421e69c5a059d8c6",
   "execution_count": null
  },
  {
   "cell_type": "code",
   "outputs": [],
   "source": [
    "from src.training import predict_and_evaluate\n",
    "\n",
    "test_results = predict_and_evaluate(model, test_data, test_labels, device)"
   ],
   "metadata": {
    "collapsed": false,
    "ExecuteTime": {
     "end_time": "2025-07-21T20:43:29.364968Z",
     "start_time": "2025-07-21T20:43:29.364909Z"
    }
   },
   "id": "d5accb27c9b0362",
   "execution_count": null
  },
  {
   "cell_type": "code",
   "outputs": [],
   "source": [
    "test_results"
   ],
   "metadata": {
    "collapsed": false
   },
   "id": "8ec08eda05b1e0a0",
   "execution_count": null
  },
  {
   "cell_type": "code",
   "outputs": [],
   "source": [
    "import matplotlib.pyplot as plt\n",
    "import numpy as np\n",
    "\n",
    "# Extract metrics from results dictionary\n",
    "metrics = ['Precision', 'Recall', 'F1-Score']\n",
    "values = [test_results['precision'], test_results['recall'], test_results['f1_score']]\n",
    "\n",
    "# Create bar chart\n",
    "plt.figure(figsize=(10, 6))\n",
    "bars = plt.bar(metrics, values, color=['#2E86AB', '#A23B72', '#F18F01'], alpha=0.8, edgecolor='black', linewidth=1.2)\n",
    "\n",
    "# Customize the plot\n",
    "plt.title('Model Performance Metrics', fontsize=16, fontweight='bold', pad=20)\n",
    "plt.ylabel('Score', fontsize=12)\n",
    "plt.ylim(0, 1.0)  # Set y-axis from 0 to 1\n",
    "\n",
    "# Add value labels on top of bars\n",
    "for bar, value in zip(bars, values):\n",
    "    plt.text(bar.get_x() + bar.get_width()/2, bar.get_height() + 0.01, \n",
    "             f'{value:.3f}', ha='center', va='bottom', fontsize=12, fontweight='bold')\n",
    "\n",
    "# Add horizontal grid lines\n",
    "plt.grid(axis='y', alpha=0.3, linestyle='--')\n",
    "\n",
    "# Customize appearance\n",
    "plt.tight_layout()\n",
    "plt.show()"
   ],
   "metadata": {
    "collapsed": false
   },
   "id": "1d897edcf98f7ce5",
   "execution_count": null
  }
 ],
 "metadata": {
  "kernelspec": {
   "display_name": "Python 3",
   "language": "python",
   "name": "python3"
  },
  "language_info": {
   "codemirror_mode": {
    "name": "ipython",
    "version": 2
   },
   "file_extension": ".py",
   "mimetype": "text/x-python",
   "name": "python",
   "nbconvert_exporter": "python",
   "pygments_lexer": "ipython2",
   "version": "2.7.6"
  }
 },
 "nbformat": 4,
 "nbformat_minor": 5
}
