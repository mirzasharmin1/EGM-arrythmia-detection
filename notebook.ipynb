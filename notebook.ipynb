{
 "cells": [
  {
   "cell_type": "code",
   "outputs": [],
   "source": [
    "DATA_BASE_PATH = \"/Users/mirzasharmin/Downloads/egm-data\""
   ],
   "metadata": {
    "collapsed": false,
    "ExecuteTime": {
     "end_time": "2025-06-24T16:21:45.745103Z",
     "start_time": "2025-06-24T16:21:45.740493Z"
    }
   },
   "id": "5bad54fa01d92a5",
   "execution_count": 16
  },
  {
   "cell_type": "code",
   "outputs": [],
   "source": [
    "from src.read_data import read_sinus_data\n",
    "\n",
    "sinus_dfs = read_sinus_data(DATA_BASE_PATH)"
   ],
   "metadata": {
    "collapsed": false,
    "ExecuteTime": {
     "end_time": "2025-06-24T18:18:00.823300Z",
     "start_time": "2025-06-24T18:17:47.616171Z"
    }
   },
   "id": "632f2e50324ae733",
   "execution_count": 62
  },
  {
   "cell_type": "code",
   "outputs": [
    {
     "name": "stdout",
     "output_type": "stream",
     "text": [
      "Error: /Users/mirzasharmin/Downloads/egm-data/patient-data/Patient 14-study date 12_10_2021- including recording in sinus/starfigs does not contain a valid ECG file.\n",
      "Error: /Users/mirzasharmin/Downloads/egm-data/patient-data/Patient 15-study date 25_10_2021 including recording in sinus/starfigs does not contain a valid ECG file.\n",
      "Error: /Users/mirzasharmin/Downloads/egm-data/patient-data/Patient 16-study date 08_11_2021-2 recordings in sinus rhythm included/starfigs does not contain a valid ECG file.\n",
      "Error: /Users/mirzasharmin/Downloads/egm-data/patient-data/Patient 19-study date 13_12_2021/starfigs does not contain a valid ECG file.\n",
      "Error: /Users/mirzasharmin/Downloads/egm-data/patient-data/Patient 17-study date 11_11_2021/starfigs does not contain a valid ECG file.\n",
      "Error: /Users/mirzasharmin/Downloads/egm-data/patient-data/Patient 20- study date 23_12_2021 including pace rhythm segment/starfigs does not contain a valid ECG file.\n",
      "Error: /Users/mirzasharmin/Downloads/egm-data/patient-data/Patient 13-study date 27_09_2021 including paced rhythm/starfig does not contain a valid ECG file.\n",
      "Error: /Users/mirzasharmin/Downloads/egm-data/patient-data/Patient 18-study date-29_11_2021/starfigs does not contain a valid ECG file.\n"
     ]
    }
   ],
   "source": [
    "from src.read_data import read_patient_data\n",
    "\n",
    "patient_dfs = read_patient_data(DATA_BASE_PATH)"
   ],
   "metadata": {
    "collapsed": false,
    "ExecuteTime": {
     "end_time": "2025-06-24T18:19:17.103903Z",
     "start_time": "2025-06-24T18:18:00.824936Z"
    }
   },
   "id": "3de0ca1901599c1a",
   "execution_count": 63
  },
  {
   "cell_type": "code",
   "outputs": [],
   "source": [],
   "metadata": {
    "collapsed": false
   },
   "id": "3f3f461d64d37477"
  }
 ],
 "metadata": {
  "kernelspec": {
   "display_name": "Python 3",
   "language": "python",
   "name": "python3"
  },
  "language_info": {
   "codemirror_mode": {
    "name": "ipython",
    "version": 2
   },
   "file_extension": ".py",
   "mimetype": "text/x-python",
   "name": "python",
   "nbconvert_exporter": "python",
   "pygments_lexer": "ipython2",
   "version": "2.7.6"
  }
 },
 "nbformat": 4,
 "nbformat_minor": 5
}
